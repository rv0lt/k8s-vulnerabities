{
 "cells": [
  {
   "cell_type": "code",
   "execution_count": 1,
   "id": "927f3bd6-ba63-4427-8f10-3c6a85f35d64",
   "metadata": {
    "tags": []
   },
   "outputs": [],
   "source": [
    "import requests"
   ]
  },
  {
   "cell_type": "code",
   "execution_count": 3,
   "id": "09ff37e9-f080-41fb-bcb0-b394db82ffd6",
   "metadata": {
    "tags": []
   },
   "outputs": [
    {
     "name": "stdout",
     "output_type": "stream",
     "text": [
      "tmpfs on /run/secrets/kubernetes.io/serviceaccount type tmpfs (ro,relatime,size=12807532k)\n"
     ]
    }
   ],
   "source": [
    "! mount | grep kubernetes"
   ]
  },
  {
   "cell_type": "code",
   "execution_count": 5,
   "id": "fdcf8733-efb5-413e-beb7-ff6b6711a74b",
   "metadata": {
    "tags": []
   },
   "outputs": [
    {
     "name": "stdout",
     "output_type": "stream",
     "text": [
      "eyJhbGciOiJSUzI1NiIsImtpZCI6IkhJRVBwZUpvQlVybWxQaXpXczc5QkpDOF9PZkVnUkRVT21iVmpZdGNfYlkifQ.eyJhdWQiOlsiaHR0cHM6Ly9rdWJlcm5ldGVzLmRlZmF1bHQuc3ZjLmNsdXN0ZXIubG9jYWwiXSwiZXhwIjoxNzE1NTIyMjQ4LCJpYXQiOjE2ODM5ODYyNDgsImlzcyI6Imh0dHBzOi8va3ViZXJuZXRlcy5kZWZhdWx0LnN2Yy5jbHVzdGVyLmxvY2FsIiwia3ViZXJuZXRlcy5pbyI6eyJuYW1lc3BhY2UiOiJkZWZhdWx0IiwicG9kIjp7Im5hbWUiOiJqdXAtNzhjNjg2NDk0ZC14d3dyNSIsInVpZCI6IjFhZjNhM2I3LWU2NjktNGQ0Yy1iMjUwLTE5MGI2NDNkOTljOCJ9LCJzZXJ2aWNlYWNjb3VudCI6eyJuYW1lIjoiZGVmYXVsdCIsInVpZCI6IjM5MTMwNGE3LTk1MDYtNDQ0ZS05YzMwLWU2YzIzNjU0ODkyYiJ9LCJ3YXJuYWZ0ZXIiOjE2ODM5ODk4NTV9LCJuYmYiOjE2ODM5ODYyNDgsInN1YiI6InN5c3RlbTpzZXJ2aWNlYWNjb3VudDpkZWZhdWx0OmRlZmF1bHQifQ.p2SyAmoRgZv-74AfL5GAHMDPrnQOIMjT6WNX-rdMnICNox4PhNo38gK76OCSDm1y5U9G4qBO6Rm6XlBhzBN4MDviOqOTEVOqkmJ2Go43NH9L9AntvjWOWKNwHp4nCT03BE4WsUYSoJFvJT8URHwK6SCEDU8VJoYxMTkNMmsYHusiSM_Le19RhxDrWdkjyC8TcT40qo7zsgE9ZZar6XXzJ37kHbG6K1jgbnlpnjVgALjs1gUolpizpy7ssECL7E4wvAcg-yF4sAPBi1CYn_PCBKXGPYaS0V2PyacQCTvDqneBr3HuXGNYW9Gqp3gO0_CG12Y4JqLBt_YMSwlnK1W6XQ"
     ]
    }
   ],
   "source": [
    "! cat /run/secrets/kubernetes.io/serviceaccount/token"
   ]
  },
  {
   "cell_type": "code",
   "execution_count": 6,
   "id": "ba7a6174-5ca5-40e9-973b-13f8e4d67dd8",
   "metadata": {
    "tags": []
   },
   "outputs": [],
   "source": [
    "APISERVER=\"https://kubernetes.default.svc\"\n",
    "SERVICEACCOUNT = \"/run/secrets/kubernetes.io/serviceaccount\"\n",
    "NAMESPACE=\"default\"\n",
    "TOKEN = \"eyJhbGciOiJSUzI1NiIsImtpZCI6IkhJRVBwZUpvQlVybWxQaXpXczc5QkpDOF9PZkVnUkRVT21iVmpZdGNfYlkifQ.eyJhdWQiOlsiaHR0cHM6Ly9rdWJlcm5ldGVzLmRlZmF1bHQuc3ZjLmNsdXN0ZXIubG9jYWwiXSwiZXhwIjoxNzE1NTIyMjQ4LCJpYXQiOjE2ODM5ODYyNDgsImlzcyI6Imh0dHBzOi8va3ViZXJuZXRlcy5kZWZhdWx0LnN2Yy5jbHVzdGVyLmxvY2FsIiwia3ViZXJuZXRlcy5pbyI6eyJuYW1lc3BhY2UiOiJkZWZhdWx0IiwicG9kIjp7Im5hbWUiOiJqdXAtNzhjNjg2NDk0ZC14d3dyNSIsInVpZCI6IjFhZjNhM2I3LWU2NjktNGQ0Yy1iMjUwLTE5MGI2NDNkOTljOCJ9LCJzZXJ2aWNlYWNjb3VudCI6eyJuYW1lIjoiZGVmYXVsdCIsInVpZCI6IjM5MTMwNGE3LTk1MDYtNDQ0ZS05YzMwLWU2YzIzNjU0ODkyYiJ9LCJ3YXJuYWZ0ZXIiOjE2ODM5ODk4NTV9LCJuYmYiOjE2ODM5ODYyNDgsInN1YiI6InN5c3RlbTpzZXJ2aWNlYWNjb3VudDpkZWZhdWx0OmRlZmF1bHQifQ.p2SyAmoRgZv-74AfL5GAHMDPrnQOIMjT6WNX-rdMnICNox4PhNo38gK76OCSDm1y5U9G4qBO6Rm6XlBhzBN4MDviOqOTEVOqkmJ2Go43NH9L9AntvjWOWKNwHp4nCT03BE4WsUYSoJFvJT8URHwK6SCEDU8VJoYxMTkNMmsYHusiSM_Le19RhxDrWdkjyC8TcT40qo7zsgE9ZZar6XXzJ37kHbG6K1jgbnlpnjVgALjs1gUolpizpy7ssECL7E4wvAcg-yF4sAPBi1CYn_PCBKXGPYaS0V2PyacQCTvDqneBr3HuXGNYW9Gqp3gO0_CG12Y4JqLBt_YMSwlnK1W6XQ\"\n",
    "CACERT = SERVICEACCOUNT + \"/ca.crt\""
   ]
  },
  {
   "cell_type": "code",
   "execution_count": 10,
   "id": "85863d7a-84f8-400b-8be4-08569b1f5d6a",
   "metadata": {
    "tags": []
   },
   "outputs": [],
   "source": [
    "headers = {\n",
    "    'Authorization': 'Bearer '+ TOKEN,\n",
    "}\n",
    "\n",
    "response = requests.get(APISERVER+'/api', headers=headers, verify=CACERT)\n",
    "\n"
   ]
  },
  {
   "cell_type": "code",
   "execution_count": 11,
   "id": "7dbb198b-28d8-461d-bc3d-e6332118f388",
   "metadata": {
    "tags": []
   },
   "outputs": [
    {
     "data": {
      "text/plain": [
       "200"
      ]
     },
     "execution_count": 11,
     "metadata": {},
     "output_type": "execute_result"
    }
   ],
   "source": [
    "response.status_code"
   ]
  },
  {
   "cell_type": "code",
   "execution_count": 12,
   "id": "b72e1e59-c18a-44ad-8887-eabbadce3d25",
   "metadata": {
    "tags": []
   },
   "outputs": [
    {
     "data": {
      "text/plain": [
       "{'kind': 'APIVersions',\n",
       " 'versions': ['v1'],\n",
       " 'serverAddressByClientCIDRs': [{'clientCIDR': '0.0.0.0/0',\n",
       "   'serverAddress': '192.168.65.4:6443'}]}"
      ]
     },
     "execution_count": 12,
     "metadata": {},
     "output_type": "execute_result"
    }
   ],
   "source": [
    "response.json()"
   ]
  },
  {
   "cell_type": "code",
   "execution_count": null,
   "id": "4a19ed51-6479-4246-b76a-bc5b5d1b992a",
   "metadata": {},
   "outputs": [],
   "source": []
  }
 ],
 "metadata": {
  "kernelspec": {
   "display_name": "Python 3 (ipykernel)",
   "language": "python",
   "name": "python3"
  },
  "language_info": {
   "codemirror_mode": {
    "name": "ipython",
    "version": 3
   },
   "file_extension": ".py",
   "mimetype": "text/x-python",
   "name": "python",
   "nbconvert_exporter": "python",
   "pygments_lexer": "ipython3",
   "version": "3.10.10"
  }
 },
 "nbformat": 4,
 "nbformat_minor": 5
}
